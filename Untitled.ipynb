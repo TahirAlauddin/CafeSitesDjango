{
 "cells": [
  {
   "cell_type": "code",
   "execution_count": 1,
   "id": "d1442e14",
   "metadata": {},
   "outputs": [],
   "source": [
    "import sqlite3"
   ]
  },
  {
   "cell_type": "code",
   "execution_count": 2,
   "id": "02b9dd9a",
   "metadata": {},
   "outputs": [],
   "source": [
    "import numpy as np"
   ]
  },
  {
   "cell_type": "code",
   "execution_count": 3,
   "id": "0029d091",
   "metadata": {},
   "outputs": [],
   "source": [
    "import pandas as pd"
   ]
  },
  {
   "cell_type": "code",
   "execution_count": 4,
   "id": "0fe06731",
   "metadata": {},
   "outputs": [],
   "source": [
    "db = sqlite3.connect('db.sqlite3')\n",
    "cursor = db.cursor()"
   ]
  },
  {
   "cell_type": "code",
   "execution_count": 16,
   "id": "ca324832",
   "metadata": {},
   "outputs": [
    {
     "name": "stdout",
     "output_type": "stream",
     "text": [
      "None\n",
      "None\n",
      "None\n",
      "None\n",
      "None\n",
      "None\n",
      "None\n",
      "None\n",
      "None\n",
      "None\n",
      "None\n",
      "None\n",
      "None\n",
      "None\n",
      "None\n",
      "None\n",
      "None\n",
      "None\n",
      "None\n",
      "None\n",
      "None\n",
      "None\n",
      "None\n",
      "None\n"
     ]
    }
   ],
   "source": [
    "dictionary = {'1': ' Bolton', '2': 'Bolton', '3': 'Derby', '4': 'Derby', '5': 'Bolton', '6': 'Leicester'}\n",
    "dataframe = pd.read_sql(\"SELECT * FROM cafe_record\", db, index_col='id')\n",
    "NAN_REPLACE = 'nothing'\n",
    "\n",
    "dataframe['table_id'].fillna(NAN_REPLACE, inplace=True)\n",
    "\n",
    "dataframe['table'] = dataframe[['table_id', 'deleted_table']].apply(lambda x: x['table_id']\n",
    "                                                                        if (x['table_id'] != NAN_REPLACE)\n",
    "                                                                        else x['deleted_table'], axis=1)\n",
    "\n",
    "# dataframe['label'] = dataframe.apply(lambda x:   str( queryset.get(id=int(x['table'])).table.label ) \n",
    "#                                                 if type(x['table']) in [float, int]\n",
    "#                                                 else x['table'].split()[1].split('=')[1].strip(),\n",
    "#                                                 axis=1)"
   ]
  }
 ],
 "metadata": {
  "kernelspec": {
   "display_name": "Python 3 (ipykernel)",
   "language": "python",
   "name": "python3"
  },
  "language_info": {
   "codemirror_mode": {
    "name": "ipython",
    "version": 3
   },
   "file_extension": ".py",
   "mimetype": "text/x-python",
   "name": "python",
   "nbconvert_exporter": "python",
   "pygments_lexer": "ipython3",
   "version": "3.10.4"
  }
 },
 "nbformat": 4,
 "nbformat_minor": 5
}
